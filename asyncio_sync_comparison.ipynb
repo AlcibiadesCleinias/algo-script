{
 "cells": [
  {
   "cell_type": "code",
   "execution_count": 18,
   "id": "e6cc7811-897e-4b81-8639-31c99ebd9948",
   "metadata": {},
   "outputs": [
    {
     "name": "stdout",
     "output_type": "stream",
     "text": [
      "One running\n",
      "One total: 91\n",
      "One running\n",
      "One total: 10\n",
      "One running\n",
      "One total: 78\n",
      "One running\n",
      "One total: 190\n",
      "Two nothing to do\n"
     ]
    }
   ],
   "source": [
    "# sync\n",
    "import queue\n",
    "\n",
    "def task(name, work_queue):\n",
    "    if work_queue.empty():\n",
    "        print(f\"{name} nothing to do\")\n",
    "    else:\n",
    "        while not work_queue.empty():\n",
    "            count = work_queue.get()\n",
    "            print(f'{name} running')\n",
    "            s = 0\n",
    "            for i in range(count):\n",
    "                s += i\n",
    "            print(f'{name} total: {s}')\n",
    "\n",
    "def main():\n",
    "    \"\"\"\n",
    "    This is the main entry point for the program.\n",
    "    \"\"\"\n",
    "    work_queue = queue.Queue()\n",
    "    \n",
    "    for work in [14, 5, 13, 20]:\n",
    "        work_queue.put(work)\n",
    "    \n",
    "    tasks = [\n",
    "        (task, 'One', work_queue),\n",
    "        (task, 'Two', work_queue),\n",
    "    ]\n",
    "    \n",
    "    for t, n, q in tasks:\n",
    "        t(n, q)\n",
    "\n",
    "\n",
    "if __name__ == \"__main__\":\n",
    "    main()"
   ]
  },
  {
   "cell_type": "code",
   "execution_count": 40,
   "id": "22c96b1d-665c-44c0-ad07-37231a4202d6",
   "metadata": {},
   "outputs": [
    {
     "name": "stdout",
     "output_type": "stream",
     "text": [
      "One running\n",
      "One total: 2.0045557022094727\n",
      "Two running\n",
      "Two total: 1.002506971359253\n",
      "One running\n",
      "One total: 3.002657175064087\n",
      "Two running\n",
      "Two total: 4.003462791442871\n",
      "total tim = 10.01524829864502\n"
     ]
    }
   ],
   "source": [
    "# cooperative parallelism\n",
    "import queue\n",
    "import time\n",
    "\n",
    "\n",
    "def task(name, work_queue):\n",
    "    while not work_queue.empty():\n",
    "        delay = work_queue.get()\n",
    "        print(f'{name} running')\n",
    "        start = time.time()\n",
    "        time.sleep(delay)\n",
    "        print(f'{name} total: {time.time() - start}')\n",
    "        yield\n",
    "\n",
    "def main():\n",
    "    \"\"\"\n",
    "    This is the main entry point for the program.\n",
    "    \"\"\"\n",
    "    work_queue = queue.Queue()\n",
    "    \n",
    "    for work in [2, 1, 3, 4]:\n",
    "        work_queue.put(work)\n",
    "    \n",
    "    tasks = [\n",
    "        task('One', work_queue),\n",
    "        task('Two', work_queue),\n",
    "    ]\n",
    "    \n",
    "    start = time.time()\n",
    "    done = False\n",
    "    while not done:\n",
    "        for t in tasks:\n",
    "            try:\n",
    "                next(t)\n",
    "            except StopIteration:\n",
    "                tasks.remove(t)\n",
    "                \n",
    "            if len(tasks) == 0:\n",
    "                done = True\n",
    "    print(f\"total tim = {time.time() - start}\")\n",
    "\n",
    "\n",
    "\n",
    "main()"
   ]
  },
  {
   "cell_type": "code",
   "execution_count": 44,
   "id": "1f94da62-0e7c-48b1-ae04-d674eefd7ff6",
   "metadata": {
    "collapsed": true,
    "jupyter": {
     "outputs_hidden": true
    },
    "tags": []
   },
   "outputs": [
    {
     "ename": "RuntimeError",
     "evalue": "asyncio.run() cannot be called from a running event loop",
     "output_type": "error",
     "traceback": [
      "\u001b[0;31m---------------------------------------------------------------------------\u001b[0m",
      "\u001b[0;31mRuntimeError\u001b[0m                              Traceback (most recent call last)",
      "\u001b[0;32m<ipython-input-44-81b07e9d7d81>\u001b[0m in \u001b[0;36m<module>\u001b[0;34m\u001b[0m\n\u001b[1;32m     32\u001b[0m \u001b[0;34m\u001b[0m\u001b[0m\n\u001b[1;32m     33\u001b[0m \u001b[0;32mif\u001b[0m \u001b[0m__name__\u001b[0m \u001b[0;34m==\u001b[0m \u001b[0;34m\"__main__\"\u001b[0m\u001b[0;34m:\u001b[0m\u001b[0;34m\u001b[0m\u001b[0;34m\u001b[0m\u001b[0m\n\u001b[0;32m---> 34\u001b[0;31m     \u001b[0masyncio\u001b[0m\u001b[0;34m.\u001b[0m\u001b[0mrun\u001b[0m\u001b[0;34m(\u001b[0m\u001b[0mmain\u001b[0m\u001b[0;34m(\u001b[0m\u001b[0;34m)\u001b[0m\u001b[0;34m)\u001b[0m\u001b[0;34m\u001b[0m\u001b[0;34m\u001b[0m\u001b[0m\n\u001b[0m\u001b[1;32m     35\u001b[0m \u001b[0;34m\u001b[0m\u001b[0m\n",
      "\u001b[0;32m/opt/homebrew/Cellar/python@3.9/3.9.6/Frameworks/Python.framework/Versions/3.9/lib/python3.9/asyncio/runners.py\u001b[0m in \u001b[0;36mrun\u001b[0;34m(main, debug)\u001b[0m\n\u001b[1;32m     31\u001b[0m     \"\"\"\n\u001b[1;32m     32\u001b[0m     \u001b[0;32mif\u001b[0m \u001b[0mevents\u001b[0m\u001b[0;34m.\u001b[0m\u001b[0m_get_running_loop\u001b[0m\u001b[0;34m(\u001b[0m\u001b[0;34m)\u001b[0m \u001b[0;32mis\u001b[0m \u001b[0;32mnot\u001b[0m \u001b[0;32mNone\u001b[0m\u001b[0;34m:\u001b[0m\u001b[0;34m\u001b[0m\u001b[0;34m\u001b[0m\u001b[0m\n\u001b[0;32m---> 33\u001b[0;31m         raise RuntimeError(\n\u001b[0m\u001b[1;32m     34\u001b[0m             \"asyncio.run() cannot be called from a running event loop\")\n\u001b[1;32m     35\u001b[0m \u001b[0;34m\u001b[0m\u001b[0m\n",
      "\u001b[0;31mRuntimeError\u001b[0m: asyncio.run() cannot be called from a running event loop"
     ]
    }
   ],
   "source": [
    "import asyncio\n",
    "import time\n",
    "\n",
    "async def task(name, queue):\n",
    "    while not queue.empty():\n",
    "        delay = await queue.get()\n",
    "        start = time.time()\n",
    "        print(f'{name} running')\n",
    "        await asyncio.sleep(delay)\n",
    "        print(f'{name} total: {time.time() - start}')\n",
    "\n",
    "        \n",
    "async def main():\n",
    "    work_queue = asyncio.Queue()\n",
    "    \n",
    "    for work in [2, 1, 3, 4]:\n",
    "        await work_queue.put(work)\n",
    "    \n",
    "    tasks = [\n",
    "        task('One', work_queue),\n",
    "        task('Two', work_queue),\n",
    "    ]\n",
    "    \n",
    "    start = time.time()\n",
    "    await asyncio.gather(\n",
    "        asyncio.create_task(task('One', work_queue)),\n",
    "        asyncio.create_task(task('Two', work_queue))\n",
    "    )\n",
    "    \n",
    "    print(f\"total time = {time.time() - start}\")\n",
    "\n",
    "\n",
    "if __name__ == \"__main__\":\n",
    "    asyncio.run(main())"
   ]
  }
 ],
 "metadata": {
  "kernelspec": {
   "display_name": "Python 3 (ipykernel)",
   "language": "python",
   "name": "python3"
  },
  "language_info": {
   "codemirror_mode": {
    "name": "ipython",
    "version": 3
   },
   "file_extension": ".py",
   "mimetype": "text/x-python",
   "name": "python",
   "nbconvert_exporter": "python",
   "pygments_lexer": "ipython3",
   "version": "3.9.9"
  }
 },
 "nbformat": 4,
 "nbformat_minor": 5
}
