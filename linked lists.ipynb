{
 "cells": [
  {
   "cell_type": "markdown",
   "id": "03519892-5b18-4414-a373-1bfa430b10c5",
   "metadata": {},
   "source": [
    "# Linked lists"
   ]
  },
  {
   "cell_type": "code",
   "execution_count": 4,
   "id": "594daea6-d584-4f02-b04f-18321ea02973",
   "metadata": {},
   "outputs": [],
   "source": [
    "# Merge of two sorted linked lists\n",
    "class Node:\n",
    "    def __init__(self, value, next_node = None):\n",
    "        self.next_node = next_node\n",
    "        self.value = value\n",
    "\n",
    "def merge_2_sorted_lists(list1: Node, list2: Node):\n",
    "    cursor = head_cursor = Node()\n",
    "    \n",
    "    while list1 and list2:\n",
    "        if list1.value <= list2.value:\n",
    "            cursor.next_node = list1\n",
    "            list1 = list1.next_node\n",
    "        else:\n",
    "            cursor.next_node = list2\n",
    "            list2 = list2.next_node\n",
    "    while list1:\n",
    "        cursor.next_node = list1\n",
    "        list1.next_node = list1\n",
    "    while list2:\n",
    "        cursor.next_node = list2\n",
    "        list2.next_node = list2\n",
    "    return head_cursor.next_node\n",
    "         "
   ]
  },
  {
   "cell_type": "code",
   "execution_count": null,
   "id": "a6a30d8f-bb36-4c9f-adf0-3d21f29f6819",
   "metadata": {},
   "outputs": [],
   "source": [
    "# rever double linked list\n",
    "class DoubleLinkedNode:\n",
    "    def __init__(self, value, next_node=None, prev_node=None):\n",
    "        self.value = value\n",
    "        self.next_node = next_node\n",
    "        self.prev_node = prev_node\n",
    "\n",
    "def reverse(head: DoubleLinkedNode):\n",
    "    cursor_prev = None\n",
    "    cursor_next = None\n",
    "    current = head\n",
    "    \n",
    "    while current:\n",
    "        cursor_next = current.next_node\n",
    "        \n",
    "        current.next_node = cursor_prev\n",
    "        cursor_prev = current\n",
    "        \n",
    "        current = cursor_next\n",
    "        \n",
    "    return cursor_prev\n",
    "        "
   ]
  }
 ],
 "metadata": {
  "kernelspec": {
   "display_name": "trash_venv",
   "language": "python",
   "name": "trash_venv"
  },
  "language_info": {
   "codemirror_mode": {
    "name": "ipython",
    "version": 3
   },
   "file_extension": ".py",
   "mimetype": "text/x-python",
   "name": "python",
   "nbconvert_exporter": "python",
   "pygments_lexer": "ipython3",
   "version": "3.9.13"
  }
 },
 "nbformat": 4,
 "nbformat_minor": 5
}
