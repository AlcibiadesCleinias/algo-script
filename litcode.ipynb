{
 "cells": [
  {
   "cell_type": "code",
   "execution_count": null,
   "id": "0a6b3e54-c535-442e-b217-40aaf26d4d2e",
   "metadata": {},
   "outputs": [],
   "source": [
    "# Linked lists on python: create merge operation on 2 sorted linked lists.\n",
    "class ListNode:\n",
    "    def __init__(self, val, next_node=None):\n",
    "        self.val = val\n",
    "        self.next_node = next_node\n",
    "        \n",
    "class merge_2_lists(list1, list2):\n",
    "    cursor = head_cursor = ListNode()\n",
    "    \n",
    "    while list1 and list2:\n",
    "        if list1.val <= list2.val:\n",
    "            cursor.next = list1\n",
    "            list1 = list1.next\n",
    "        else:\n",
    "            cursor.next = list2\n",
    "            list2 = list2.next\n",
    "    while list1:\n",
    "        cursor.next = list1\n",
    "        list1 = list1.next\n",
    "    while list2:\n",
    "        cursor.next = list2\n",
    "        list2 = list2.next\n",
    "    return head_cursor.next"
   ]
  }
 ],
 "metadata": {
  "kernelspec": {
   "display_name": "trash_venv",
   "language": "python",
   "name": "trash_venv"
  },
  "language_info": {
   "codemirror_mode": {
    "name": "ipython",
    "version": 3
   },
   "file_extension": ".py",
   "mimetype": "text/x-python",
   "name": "python",
   "nbconvert_exporter": "python",
   "pygments_lexer": "ipython3",
   "version": "3.9.13"
  }
 },
 "nbformat": 4,
 "nbformat_minor": 5
}
