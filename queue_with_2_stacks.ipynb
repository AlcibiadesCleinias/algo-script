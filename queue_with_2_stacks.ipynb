{
 "cells": [
  {
   "cell_type": "code",
   "execution_count": 199,
   "id": "77fc1805-babb-4bcc-bfbb-2173231048cc",
   "metadata": {},
   "outputs": [],
   "source": [
    "class StackWithMin:\n",
    "    def __init__(self):\n",
    "        self.content = []\n",
    "        \n",
    "    def __bool__(self):\n",
    "        return bool(self.content)\n",
    "    \n",
    "    def push(self, v):\n",
    "        if not self:\n",
    "            self.content.append((v, v))\n",
    "        else:\n",
    "            self.content.append((v, min(self.content[-1][1], v)))\n",
    "        \n",
    "    def pop(self):\n",
    "        return self.content.pop()[0]\n",
    "    \n",
    "    def get_min(self):\n",
    "        if not self.content:\n",
    "            return 9999\n",
    "        \n",
    "        return self.content[-1][1]"
   ]
  },
  {
   "cell_type": "code",
   "execution_count": 200,
   "id": "a0f5fe72-30f1-456b-a8ef-a2642ea17622",
   "metadata": {},
   "outputs": [],
   "source": [
    "class QueueWithMin:\n",
    "    def __init__(self):\n",
    "        self.stack_a = StackWithMin()\n",
    "        self.stack_b = StackWithMin()\n",
    "        \n",
    "    def push(self, v):\n",
    "        self.stack_a.push(v)\n",
    "        \n",
    "    def pop(self):\n",
    "        if not self.stack_b:\n",
    "            while self.stack_a:\n",
    "                self.stack_b.push(self.stack_a.pop())\n",
    "        return self.stack_b.pop()\n",
    "    \n",
    "    def get_min(self):\n",
    "        return min(self.stack_a.get_min(), self.stack_b.get_min())"
   ]
  },
  {
   "cell_type": "code",
   "execution_count": null,
   "id": "11634ede-ed24-495a-b979-fac132c2b1ca",
   "metadata": {},
   "outputs": [],
   "source": []
  },
  {
   "cell_type": "code",
   "execution_count": 34,
   "id": "2c79738e-46e9-4e54-970d-a16b2840dc05",
   "metadata": {},
   "outputs": [
    {
     "data": {
      "text/plain": [
       "4.000000000000001"
      ]
     },
     "execution_count": 34,
     "metadata": {},
     "output_type": "execute_result"
    }
   ],
   "source": [
    "A = [[1, 2, 3], [0, 0, 1], [3, 2, 1]]\n",
    "# np.dot(A, A)]\n",
    "np.linalg.det(A)"
   ]
  },
  {
   "cell_type": "code",
   "execution_count": 42,
   "id": "a09daf47-89dd-47cf-bf13-ee1bde75acce",
   "metadata": {},
   "outputs": [
    {
     "data": {
      "text/plain": [
       "array([1.-2.j])"
      ]
     },
     "execution_count": 42,
     "metadata": {},
     "output_type": "execute_result"
    }
   ],
   "source": [
    "# 1\n",
    "A = np.array([2-1j, 3+1j]).reshape(2,1)\n",
    "B = np.array([1j, 1-1j])\n",
    "np.conj(A).T @ B"
   ]
  },
  {
   "cell_type": "code",
   "execution_count": 45,
   "id": "6d38580f-4e8e-41bd-82d6-d2774a04c17c",
   "metadata": {},
   "outputs": [],
   "source": [
    "# 2\n",
    "pauli_x = np.array([[0 + 0j, 1 + 0j], [1 + 0j, 0 + 0j]])\n",
    "pauli_y = np.array([[0 + 0j, 0 - 1j], [0 + 1j, 0 + 0j]])\n",
    "pauli_z = np.array([[1 + 0j, 0 + 0j], [0 + 0j, 0j - 1]])"
   ]
  },
  {
   "cell_type": "code",
   "execution_count": 65,
   "id": "172b642e-9783-4e4d-ad2e-d814bb2bb553",
   "metadata": {},
   "outputs": [
    {
     "data": {
      "text/plain": [
       "True"
      ]
     },
     "execution_count": 65,
     "metadata": {},
     "output_type": "execute_result"
    }
   ],
   "source": [
    "V = np.array([0, 1]).reshape(2, 1)\n",
    "lambd = -1\n",
    "np.allclose(np.dot(pauli_z, V), lambd * V)"
   ]
  },
  {
   "cell_type": "code",
   "execution_count": 62,
   "id": "e42236e4-2521-4122-97f5-583d822747d9",
   "metadata": {},
   "outputs": [
    {
     "data": {
      "text/plain": [
       "array([[1.+0.j],\n",
       "       [0.-1.j]])"
      ]
     },
     "execution_count": 62,
     "metadata": {},
     "output_type": "execute_result"
    }
   ],
   "source": [
    "lambd * V"
   ]
  },
  {
   "cell_type": "code",
   "execution_count": 50,
   "id": "9d103f4e-2f1d-41d8-8a48-80ffba89022f",
   "metadata": {},
   "outputs": [
    {
     "name": "stdout",
     "output_type": "stream",
     "text": [
      "(array([ 1.+0.j, -1.+0.j]), array([[1.+0.j, 0.+0.j],\n",
      "       [0.+0.j, 1.+0.j]]))\n"
     ]
    }
   ],
   "source": [
    "print(np.linalg.eig(pauli_z))"
   ]
  },
  {
   "cell_type": "code",
   "execution_count": 66,
   "id": "fa89c727-11cb-4353-8ccf-a6442fff7c29",
   "metadata": {},
   "outputs": [],
   "source": [
    "basis_0 = np.array([1 + 0j, 0 + 0j]).reshape((2, 1))\n",
    "basis_1 = np.array([0 + 0j, 1 + 0j]).reshape((2, 1))\n",
    "R = (basis_0 + 1j * basis_1) / np.sqrt(2)"
   ]
  },
  {
   "cell_type": "code",
   "execution_count": 67,
   "id": "f85eb1c9-49d1-4a95-9a32-cac6fa40f67b",
   "metadata": {},
   "outputs": [
    {
     "name": "stdout",
     "output_type": "stream",
     "text": [
      "[[1.+0.j]]\n"
     ]
    }
   ],
   "source": [
    "print(R.conj().T @ pauli_y @ R)"
   ]
  },
  {
   "cell_type": "code",
   "execution_count": 68,
   "id": "ec0aee1f-07ba-41a1-896e-7d0baf38c6e8",
   "metadata": {},
   "outputs": [],
   "source": [
    "def u1(state, phi):\n",
    "    return np.array([[1, 0], [0, np.exp(1j * phi)]]) @ state"
   ]
  },
  {
   "cell_type": "code",
   "execution_count": 70,
   "id": "6ee4f8e7-4509-431f-a341-ae81e0aeedae",
   "metadata": {},
   "outputs": [
    {
     "data": {
      "text/plain": [
       "array([[1.        +0.j        , 0.        +0.j        ],\n",
       "       [0.        +0.j        , 0.99500417+0.09983342j]])"
      ]
     },
     "execution_count": 70,
     "metadata": {},
     "output_type": "execute_result"
    }
   ],
   "source": [
    "phi = 0.1\n",
    "U1 = np.array([[1, 0], [0, np.exp(1j * phi)]])\n",
    "U1"
   ]
  },
  {
   "cell_type": "code",
   "execution_count": 71,
   "id": "f95a0c9a-936e-4f75-947a-1f3f477aaaf6",
   "metadata": {},
   "outputs": [
    {
     "data": {
      "text/plain": [
       "(array([1.        +0.j        , 0.99500417+0.09983342j]),\n",
       " array([[1.+0.j, 0.+0.j],\n",
       "        [0.+0.j, 1.+0.j]]))"
      ]
     },
     "execution_count": 71,
     "metadata": {},
     "output_type": "execute_result"
    }
   ],
   "source": [
    "np.linalg.eig(U1)"
   ]
  },
  {
   "cell_type": "code",
   "execution_count": null,
   "id": "73e428a9-cd4f-4184-a003-1dcd6d12c37f",
   "metadata": {},
   "outputs": [],
   "source": [
    "basis_0 = np.array([1 + 0j, 0 + 0j]).reshape((2, 1))\n",
    "basis_1 = np.array([0 + 0j, 1 + 0j]).reshape((2, 1))\n",
    "\n",
    "V = basis_0\n",
    "lambd = -1\n",
    "np.allclose(np.dot(pauli_z, V), lambd * V)"
   ]
  },
  {
   "cell_type": "code",
   "execution_count": 84,
   "id": "ce310901-9780-4565-ae0b-0606596b9254",
   "metadata": {},
   "outputs": [
    {
     "data": {
      "text/plain": [
       "(6.123233995736766e-17+1j)"
      ]
     },
     "execution_count": 84,
     "metadata": {},
     "output_type": "execute_result"
    }
   ],
   "source": [
    "cmath.exp(1j*np.pi/2)"
   ]
  },
  {
   "cell_type": "code",
   "execution_count": 92,
   "id": "cb83a980-e949-4341-a61d-818829a185db",
   "metadata": {},
   "outputs": [
    {
     "data": {
      "text/plain": [
       "(array([[1.+0.j]]), array([[-1.+0.j]]))"
      ]
     },
     "execution_count": 92,
     "metadata": {},
     "output_type": "execute_result"
    }
   ],
   "source": [
    "# 4: if basis_1 turn with r and mesure for Y we get |R>\n",
    "def rx(state, phi):\n",
    "    return np.array([\n",
    "        [np.cos(phi / 2), -1j * np.sin(phi / 2)],\n",
    "        [1j * np.sin(phi / 2),  np.cos(phi / 2)]\n",
    "    ]) @ state\n",
    "\n",
    "def expval(state, op):\n",
    "    return state.conj().T @ op @ state\n",
    "\n",
    "expval(rx(basis_1, np.pi / 2), pauli_y), expval(rx(basis_1, -np.pi / 2), pauli_y)\n"
   ]
  },
  {
   "cell_type": "code",
   "execution_count": 93,
   "id": "d1b605ee-fdc0-4e9d-aa34-10b9d52ec269",
   "metadata": {},
   "outputs": [
    {
     "data": {
      "text/plain": [
       "(array([0.70710678+0.j]), array([0.+0.70710678j]))"
      ]
     },
     "execution_count": 93,
     "metadata": {},
     "output_type": "execute_result"
    }
   ],
   "source": [
    "R[0], R[1]"
   ]
  },
  {
   "cell_type": "code",
   "execution_count": 96,
   "id": "6003f0fb-4878-46e7-8aec-1230864e8c23",
   "metadata": {},
   "outputs": [
    {
     "data": {
      "text/plain": [
       "array([[ 1,  1],\n",
       "       [ 1, -1]])"
      ]
     },
     "execution_count": 96,
     "metadata": {},
     "output_type": "execute_result"
    }
   ],
   "source": [
    "H = np.array([[1,1], [1, -1]])\n",
    "H"
   ]
  },
  {
   "cell_type": "code",
   "execution_count": 108,
   "id": "6a3e82bc-0d7f-4e0b-ae7b-00ae9e7bbc0a",
   "metadata": {},
   "outputs": [
    {
     "data": {
      "text/plain": [
       "array([[ 1.+0.j, -1.+0.j],\n",
       "       [-1.+0.j, -1.+0.j]])"
      ]
     },
     "execution_count": 108,
     "metadata": {},
     "output_type": "execute_result"
    }
   ],
   "source": [
    "basis = np.array([1 + 0j, 0 + 0j]).reshape((2, 1))\n",
    "identity_gate = np.eye(2, dtype=np.complex128)\n",
    "h = 1 / np.sqrt(2) * np.array([[1 + 0j, 1 + 0j], [1 + 0j, 0j - 1]])\n",
    "\n",
    "np.dot(np.dot(pauli_z, H), pauli_z)"
   ]
  },
  {
   "cell_type": "code",
   "execution_count": 103,
   "id": "55306b8e-242a-424b-b85d-b81d516cfda3",
   "metadata": {},
   "outputs": [
    {
     "data": {
      "text/plain": [
       "array([[0.+0.j, 1.+0.j],\n",
       "       [1.+0.j, 0.+0.j]])"
      ]
     },
     "execution_count": 103,
     "metadata": {},
     "output_type": "execute_result"
    }
   ],
   "source": [
    "pauli_x"
   ]
  },
  {
   "cell_type": "code",
   "execution_count": 106,
   "id": "9a4e7c26-0004-43b5-80de-6672c5f8b6be",
   "metadata": {},
   "outputs": [
    {
     "data": {
      "text/plain": [
       "array([[ 1.+0.j,  0.+0.j],\n",
       "       [ 0.+0.j, -1.+0.j]])"
      ]
     },
     "execution_count": 106,
     "metadata": {},
     "output_type": "execute_result"
    }
   ],
   "source": [
    "pauli_z"
   ]
  },
  {
   "cell_type": "code",
   "execution_count": 121,
   "id": "18b8fba7-f13a-492b-8744-90e7bfa0a0a6",
   "metadata": {},
   "outputs": [],
   "source": [
    "# H x I\n",
    "A = np.kron(h, identity_gate)"
   ]
  },
  {
   "cell_type": "code",
   "execution_count": 115,
   "id": "04742da5-d2fb-4473-b5b8-b4c08fe9c27f",
   "metadata": {},
   "outputs": [
    {
     "data": {
      "text/plain": [
       "array([[1.+0.j, 0.+0.j, 0.+0.j, 0.+0.j],\n",
       "       [0.+0.j, 1.+0.j, 0.+0.j, 0.+0.j],\n",
       "       [0.+0.j, 0.+0.j, 0.+0.j, 1.+0.j],\n",
       "       [0.+0.j, 0.+0.j, 1.+0.j, 0.+0.j]])"
      ]
     },
     "execution_count": 115,
     "metadata": {},
     "output_type": "execute_result"
    }
   ],
   "source": [
    "cnot = (1 + 0j) * np.array(\n",
    "    [\n",
    "        [1, 0, 0, 0],\n",
    "        [0, 1, 0, 0],\n",
    "        [0, 0, 0, 1],\n",
    "        [0, 0, 1, 0],\n",
    "    ]\n",
    ")\n",
    "cnot"
   ]
  },
  {
   "cell_type": "code",
   "execution_count": null,
   "id": "7072be96-2b35-4110-a1b9-270cfc9cf755",
   "metadata": {},
   "outputs": [],
   "source": []
  },
  {
   "cell_type": "code",
   "execution_count": 116,
   "id": "ab13f42f-919e-40b6-8adf-820c9793fc1d",
   "metadata": {},
   "outputs": [],
   "source": [
    "def ry(state, phi):\n",
    "    return np.array([\n",
    "        [np.cos(phi / 2), -np.sin(phi / 2)],\n",
    "        [np.sin(phi / 2),  np.cos(phi / 2)]\n",
    "    ]) @ state"
   ]
  },
  {
   "cell_type": "code",
   "execution_count": 123,
   "id": "16bf90d8-a92f-4be1-bdae-5e5c07a7b0d1",
   "metadata": {},
   "outputs": [
    {
     "data": {
      "text/plain": [
       "array([[ 0.42177145+0.j,  0.90670218+0.j],\n",
       "       [ 0.90670218+0.j, -0.42177145+0.j]])"
      ]
     },
     "execution_count": 123,
     "metadata": {},
     "output_type": "execute_result"
    }
   ],
   "source": [
    "cnot\n",
    "ry(h, 0.7)"
   ]
  },
  {
   "cell_type": "code",
   "execution_count": 138,
   "id": "5b7a46a0-d328-491c-ac0d-ea8c549ff945",
   "metadata": {},
   "outputs": [],
   "source": [
    "C = np.kron(basis_0, basis_0)"
   ]
  },
  {
   "cell_type": "code",
   "execution_count": 126,
   "id": "e4e4ed41-6461-4a3a-aef1-84d0386b507d",
   "metadata": {},
   "outputs": [
    {
     "data": {
      "text/plain": [
       "array([[1., 0.],\n",
       "       [0., 1.]])"
      ]
     },
     "execution_count": 126,
     "metadata": {},
     "output_type": "execute_result"
    }
   ],
   "source": [
    "cnot = "
   ]
  },
  {
   "cell_type": "code",
   "execution_count": 127,
   "id": "ac4abdc2-3c46-4715-b582-5fd5d5ac4ed9",
   "metadata": {},
   "outputs": [
    {
     "data": {
      "text/plain": [
       "array([[1., 0.],\n",
       "       [0., 1.]])"
      ]
     },
     "execution_count": 127,
     "metadata": {},
     "output_type": "execute_result"
    }
   ],
   "source": [
    "np.eye(2)"
   ]
  },
  {
   "cell_type": "code",
   "execution_count": 136,
   "id": "8c79567f-5933-4bcb-bfa1-92d9e2ad3958",
   "metadata": {},
   "outputs": [],
   "source": [
    "B = np.concatenate(\n",
    "    (\n",
    "        np.concatenate((np.eye(2), np.zeros((2,2)))),\n",
    "        np.concatenate((np.zeros((2,2)), ry(h, 0.7)))\n",
    "    ), axis=1\n",
    ")"
   ]
  },
  {
   "cell_type": "code",
   "execution_count": 140,
   "id": "35ac5c57-88e8-430d-9d25-38a1884ed18e",
   "metadata": {},
   "outputs": [],
   "source": [
    "K = A @ B @ C"
   ]
  },
  {
   "cell_type": "code",
   "execution_count": 161,
   "id": "ddcac44f-4899-4dc5-92a6-2ec5d98ae80d",
   "metadata": {},
   "outputs": [
    {
     "data": {
      "text/plain": [
       "array([7.07106781+0.j])"
      ]
     },
     "execution_count": 161,
     "metadata": {},
     "output_type": "execute_result"
    }
   ],
   "source": [
    "np.dot(K.reshape(1,4), np.array([0,1,10,11]))"
   ]
  },
  {
   "cell_type": "code",
   "execution_count": 152,
   "id": "a5abf573-f915-41e6-9d23-3917814eed6d",
   "metadata": {},
   "outputs": [
    {
     "data": {
      "text/plain": [
       "array([[0.70710678+0.j],\n",
       "       [0.        +0.j],\n",
       "       [0.70710678+0.j],\n",
       "       [0.        +0.j]])"
      ]
     },
     "execution_count": 152,
     "metadata": {},
     "output_type": "execute_result"
    }
   ],
   "source": [
    "K"
   ]
  },
  {
   "cell_type": "code",
   "execution_count": 158,
   "id": "a0aa3826-b552-482f-8bdf-b59bff4e8f1b",
   "metadata": {},
   "outputs": [
    {
     "data": {
      "text/plain": [
       "array([[0.70710678+0.j, 0.        +0.j, 0.70710678+0.j, 0.        +0.j]])"
      ]
     },
     "execution_count": 158,
     "metadata": {},
     "output_type": "execute_result"
    }
   ],
   "source": [
    "K.reshape(1,4)"
   ]
  },
  {
   "cell_type": "code",
   "execution_count": null,
   "id": "c4ac8283-a437-438a-87ea-7ec0810b3a27",
   "metadata": {},
   "outputs": [],
   "source": []
  }
 ],
 "metadata": {
  "kernelspec": {
   "display_name": "trash_venv",
   "language": "python",
   "name": "trash_venv"
  },
  "language_info": {
   "codemirror_mode": {
    "name": "ipython",
    "version": 3
   },
   "file_extension": ".py",
   "mimetype": "text/x-python",
   "name": "python",
   "nbconvert_exporter": "python",
   "pygments_lexer": "ipython3",
   "version": "3.9.6"
  }
 },
 "nbformat": 4,
 "nbformat_minor": 5
}
