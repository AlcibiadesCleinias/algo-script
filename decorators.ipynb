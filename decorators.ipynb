{
 "cells": [
  {
   "cell_type": "code",
   "execution_count": null,
   "id": "8236cf71-8895-498c-a359-bdaf07115bd6",
   "metadata": {},
   "outputs": [],
   "source": [
    "def benchmark(func):\n",
    "    import time\n",
    "    def wrapper(*args, **kwargs):\n",
    "        started = time.time()\n",
    "        res = func(*args, **kwargs)\n",
    "        print('running for', time.time() - started)\n",
    "        return res\n",
    "    return wrapper\n",
    "\n",
    "def retry_on_error(exception: Exception, tries: int = 3):\n",
    "    def decorator(func):\n",
    "        def wrapper(*args, **kwargs):\n",
    "            for _ in range(tries):\n",
    "                try:\n",
    "                    raise Exception\n",
    "                    return func(*args, **kwargs)\n",
    "                except exception:\n",
    "                    print('exception...')\n",
    "        return wrapper\n",
    "    return decorator"
   ]
  },
  {
   "cell_type": "code",
   "execution_count": 53,
   "id": "5c2fc0fe-504b-4477-a1ff-205916966006",
   "metadata": {},
   "outputs": [],
   "source": [
    "from collections import deque\n",
    "\n",
    "class Memoize:\n",
    "    \n",
    "    def __init__(self, cache_size=5):\n",
    "        self.cache_size = cache_size\n",
    "        self.call_args_queue = deque()\n",
    "        self.call_args_to_result = {}\n",
    "        \n",
    "    @staticmethod\n",
    "    def _hash_args(args, kwargs):\n",
    "        return hash(str(args) + str(kwargs))\n",
    "    \n",
    "    def _clean_queue(self):\n",
    "        if len(self.call_args_to_result) < self.cache_size:\n",
    "            return\n",
    "        popped = self.call_args_queue.popleft()\n",
    "        print('we clean from popped')\n",
    "        del self.call_args_to_result[popped]\n",
    "        \n",
    "        \n",
    "    def __call__(self, func):\n",
    "        def wrapper(*args, **kwargs):\n",
    "            hashed_args = Memoize._hash_args(args, kwargs)\n",
    "            print('hashed', hashed_args)\n",
    "            if not hashed_args in self.call_args_to_result:\n",
    "                print('save')\n",
    "                self.call_args_to_result[hashed_args] = func(*args, **kwargs)\n",
    "                self._clean_queue()\n",
    "                self.call_args_queue.append(hashed_args)\n",
    "                return self.call_args_to_result[hashed_args]\n",
    "            print('use mem')\n",
    "            return self.call_args_to_result[hashed_args]\n",
    "        return wrapper\n",
    "            "
   ]
  },
  {
   "cell_type": "code",
   "execution_count": 57,
   "id": "43128860-dac8-4ffd-80ac-c51a33acef65",
   "metadata": {},
   "outputs": [
    {
     "name": "stdout",
     "output_type": "stream",
     "text": [
      "hashed 3858993327405094944\n",
      "save\n",
      "hashed 3858993327405094944\n",
      "use mem\n",
      "hashed -7763230149830122360\n",
      "save\n",
      "hashed 893375603462835068\n",
      "save\n",
      "hashed -1895409055782295232\n",
      "save\n",
      "hashed 4853616770151224157\n",
      "save\n",
      "we clean from popped\n"
     ]
    },
    {
     "data": {
      "text/plain": [
       "(3, 5)"
      ]
     },
     "execution_count": 57,
     "metadata": {},
     "output_type": "execute_result"
    }
   ],
   "source": [
    "@Memoize(5)\n",
    "def f(a, b):\n",
    "    return a,b \n",
    "\n",
    "f(34, 2)\n",
    "f(34,2)\n",
    "f(3,2)\n",
    "f(3,3)\n",
    "f(3,4)\n",
    "f(3,5)"
   ]
  }
 ],
 "metadata": {
  "kernelspec": {
   "display_name": "Python 3 (ipykernel)",
   "language": "python",
   "name": "python3"
  },
  "language_info": {
   "codemirror_mode": {
    "name": "ipython",
    "version": 3
   },
   "file_extension": ".py",
   "mimetype": "text/x-python",
   "name": "python",
   "nbconvert_exporter": "python",
   "pygments_lexer": "ipython3",
   "version": "3.9.13"
  }
 },
 "nbformat": 4,
 "nbformat_minor": 5
}
