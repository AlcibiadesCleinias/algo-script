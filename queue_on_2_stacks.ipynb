{
 "cells": [
  {
   "cell_type": "code",
   "execution_count": 29,
   "id": "9f0c08b5-45a1-4358-9dc6-7783ef6b62b9",
   "metadata": {},
   "outputs": [],
   "source": [
    "class Stack:\n",
    "    def __init__(self):\n",
    "        # To store list of tuples: element and max.\n",
    "        self._stack = []\n",
    "        \n",
    "    def __bool__(self):\n",
    "        return not len(self._stack) == 0\n",
    "    \n",
    "    def get_max(self):\n",
    "        if not self._stack:\n",
    "            raise Exception('Empty stack')\n",
    "        return self._stack[-1][1]\n",
    "    \n",
    "    def pop(self):\n",
    "        if not self._stack:\n",
    "            raise Exception('Empty stack')\n",
    "        return self._stack.pop(-1)\n",
    "    \n",
    "    def push(self, value):\n",
    "        if not self._stack:\n",
    "            return self._stack.append((value, value))\n",
    "        self._stack.append((value, max(value, self._stack[-1][1])))\n",
    "        \n",
    "\n",
    "class QueueOn2Stacks:\n",
    "    \"\"\"\n",
    "    Push always to s1, pop from s2, \n",
    "    when s2 is empty: s1 -> to s2 and pop.\n",
    "\n",
    "\n",
    "    O(1) for max operation as well, as it is in Stack\n",
    "    (and for other operation those evaluates subgroup, but not a group).\n",
    "    \"\"\"\n",
    "    def __init__(self):\n",
    "        self._s1 = Stack()\n",
    "        self._s2 = Stack()\n",
    "        \n",
    "    def push(self, value):\n",
    "        self._s1.push(value)\n",
    "        \n",
    "    def pop(self):\n",
    "        if not self._s2:\n",
    "            while self._s1:\n",
    "                self._s2.push(self._s1.pop()[0])\n",
    "        return self._s2.pop()\n",
    "    \n",
    "    def get_max(self):\n",
    "        if not self._s1 and not self._s2:\n",
    "            raise Exception('Empty queue')\n",
    "            \n",
    "        _max = None\n",
    "        if self._s1:\n",
    "            _max = self._s1.get_max()\n",
    "        if self._s2:\n",
    "            s2_max = self._s2.get_max()\n",
    "            _max = s2_max if not _max else max(_max, s2_max)        \n",
    "        \n",
    "        return _max"
   ]
  },
  {
   "cell_type": "code",
   "execution_count": 30,
   "id": "c7686480-07c1-40cc-996a-870c4b08dff9",
   "metadata": {},
   "outputs": [],
   "source": [
    "# test Stack\n",
    "s1 = Stack()\n",
    "s1.push(50)\n",
    "s1.push(3)\n",
    "assert s1.get_max(), 50\n",
    "\n",
    "s2 = Stack()\n",
    "s2.push(51)\n",
    "s2.push(3)\n",
    "s2.get_max()\n",
    "assert s2.get_max(), 51"
   ]
  },
  {
   "cell_type": "code",
   "execution_count": 31,
   "id": "4d008acb-91b8-410d-b96b-a99cd1dce2fa",
   "metadata": {},
   "outputs": [],
   "source": [
    "q = QueueOn2Stacks()\n",
    "q.push(51)\n",
    "q.push(0)\n",
    "q.push(4)\n",
    "q.push(52)\n",
    "assert q.get_max(), 52\n",
    "q.pop()\n",
    "assert q.get_max(), 51"
   ]
  }
 ],
 "metadata": {
  "kernelspec": {
   "display_name": "trash_venv",
   "language": "python",
   "name": "trash_venv"
  },
  "language_info": {
   "codemirror_mode": {
    "name": "ipython",
    "version": 3
   },
   "file_extension": ".py",
   "mimetype": "text/x-python",
   "name": "python",
   "nbconvert_exporter": "python",
   "pygments_lexer": "ipython3",
   "version": "3.9.13"
  }
 },
 "nbformat": 4,
 "nbformat_minor": 5
}
